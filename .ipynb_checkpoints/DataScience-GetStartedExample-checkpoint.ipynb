{
 "cells": [
  {
   "cell_type": "code",
   "execution_count": 1,
   "id": "3315a1ab",
   "metadata": {
    "scrolled": true
   },
   "outputs": [],
   "source": [
    "import pandas as pd\n",
    "import numpy as np\n",
    "import matplotlib.pyplot as plt"
   ]
  },
  {
   "cell_type": "code",
   "execution_count": 5,
   "id": "fdb6f729",
   "metadata": {
    "collapsed": true,
    "scrolled": false
   },
   "outputs": [],
   "source": [
    "data = {'Year':[\n",
    "        2010,2011,2012,\n",
    "        2010,2011,2012,\n",
    "        2010,2011,2012\n",
    "    ],\n",
    "    'team':[\n",
    "        'FCBarcelona','FCBarcelona',\n",
    "        'FCBarcelona','RMadrid',\n",
    "        'RMadrid','RMadrid',\n",
    "        'ValenciaFC','ValenciaFC',\n",
    "        'ValenciaFC'\n",
    "    ],\n",
    "    'wins':[30,28,32,29,32,26,21,17,19],\n",
    "    'draws':[6,7,4,5,4,7,8,10,81],\n",
    "    'losses':[2,3,2,4,2,5,9,11,11]\n",
    "       }\n",
    "football = pd.DataFrame(data,columns=[\n",
    "    'year','team','wins','draws','losses'\n",
    "    ]\n",
    ")\n"
   ]
  },
  {
   "cell_type": "markdown",
   "id": "5d6975ce",
   "metadata": {},
   "source": []
  },
  {
   "cell_type": "code",
   "execution_count": 6,
   "id": "cd7fda8a",
   "metadata": {
    "scrolled": true
   },
   "outputs": [
    {
     "name": "stdout",
     "output_type": "stream",
     "text": [
      "Hello World\n",
      "What is your name? Jiten\n",
      "Nice to meet you, Jiten\n"
     ]
    }
   ],
   "source": [
    "    print(\"Hello World\")\n",
    "    name = input(\"What is your name? \")\n",
    "    print (\"Nice to meet you,\",name)"
   ]
  },
  {
   "cell_type": "code",
   "execution_count": 7,
   "id": "be936eb4",
   "metadata": {},
   "outputs": [
    {
     "name": "stdout",
     "output_type": "stream",
     "text": [
      "0 M\n",
      "1 Tue\n",
      "2 W\n",
      "3 T\n",
      "4 F\n",
      "5 Sa\n",
      "6 Su\n"
     ]
    }
   ],
   "source": [
    "  day = (\"M\",\"Tue\",\"W\",\"T\",\"F\",\"Sa\",\"Su\")\n",
    "  for i,d in enumerate (day):\n",
    "    print (i,d)"
   ]
  },
  {
   "cell_type": "code",
   "execution_count": 8,
   "id": "530a4417",
   "metadata": {},
   "outputs": [
    {
     "name": "stdout",
     "output_type": "stream",
     "text": [
      "5\n",
      "6\n",
      "7\n",
      "8\n",
      "9\n"
     ]
    }
   ],
   "source": [
    "for x in range(5,10):\n",
    "  print(x)"
   ]
  },
  {
   "cell_type": "code",
   "execution_count": 9,
   "id": "923de617",
   "metadata": {},
   "outputs": [
    {
     "name": "stdout",
     "output_type": "stream",
     "text": [
      "The square root of 16 is 4.0\n"
     ]
    }
   ],
   "source": [
    "import math\n",
    "print(\"The square root of 16 is\",math.sqrt(16))"
   ]
  },
  {
   "cell_type": "code",
   "execution_count": null,
   "id": "286dfd7d",
   "metadata": {},
   "outputs": [],
   "source": []
  }
 ],
 "metadata": {
  "kernelspec": {
   "display_name": "Python 3 (ipykernel)",
   "language": "python",
   "name": "python3"
  },
  "language_info": {
   "codemirror_mode": {
    "name": "ipython",
    "version": 3
   },
   "file_extension": ".py",
   "mimetype": "text/x-python",
   "name": "python",
   "nbconvert_exporter": "python",
   "pygments_lexer": "ipython3",
   "version": "3.9.1"
  }
 },
 "nbformat": 4,
 "nbformat_minor": 5
}
