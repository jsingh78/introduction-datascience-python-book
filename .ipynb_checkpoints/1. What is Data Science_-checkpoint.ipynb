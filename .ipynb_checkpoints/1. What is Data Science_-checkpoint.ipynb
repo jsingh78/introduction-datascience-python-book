{
 "cells": [
  {
   "cell_type": "markdown",
   "metadata": {
    "slideshow": {
     "slide_type": "slide"
    }
   },
   "source": [
    "# What is Data Science?\n",
    "\n",
    "## Steve Cassidy"
   ]
  },
  {
   "cell_type": "markdown",
   "metadata": {
    "slideshow": {
     "slide_type": "slide"
    }
   },
   "source": [
    "[What is Data Science (NYU)](http://datascience.nyu.edu/what-is-data-science/)\n",
    "\n",
    "> At its core, data science involves using automated methods to analyze massive amounts of data and to extract knowledge from them. With such automated methods turning up everywhere from genomics to high-energy physics, data science is helping to create new branches of science, and influencing areas of social science and the humanities. \n",
    "\n"
   ]
  },
  {
   "cell_type": "markdown",
   "metadata": {
    "slideshow": {
     "slide_type": "slide"
    }
   },
   "source": [
    "[Berkely](https://ischoolonline.berkeley.edu/data-science/what-is-data-science/) The term “data scientist” was coined as recently as 2008 when companies realized the need for data professionals who are skilled in organizing and analyzing massive amounts of data. \n",
    "\n",
    "In a 2009 McKinsey & Company article, Hal Varian, Google's chief economist and UC Berkeley professor of information sciences, business, and economics, predicted the importance of adapting to technology’s influence and reconfiguration of different industries. \n",
    "\n",
    "> \"The ability to take data — to be able to understand it, to process it, to extract value from it, to visualize it, to communicate it — that’s going to be a hugely important skill in the next decades.”\n",
    "\n",
    "\n",
    "\n"
   ]
  },
  {
   "cell_type": "markdown",
   "metadata": {
    "slideshow": {
     "slide_type": "slide"
    }
   },
   "source": [
    "[What is Data Science (Investopedia)](http://www.investopedia.com/terms/d/data-science.asp)\n",
    "\n",
    ">A field of Big Data which seeks to provide meaningful information from large amounts of complex data. \n",
    ">Data Science combines different fields of work in statistics and computation in order to \n",
    ">interpret data for the purpose of decision making\n"
   ]
  },
  {
   "cell_type": "markdown",
   "metadata": {
    "slideshow": {
     "slide_type": "slide"
    }
   },
   "source": [
    "## Defining Data Science - Science\n",
    "\n",
    "- How do we characterise Science and Scientific methods? \n",
    "- What is the alternative to or opposite of Science? \n",
    "- Can we trust scientific results? Are they more trustworthy than the alternatives?\n",
    "- What are the most important characteristics of Science? \n",
    "- How does this all relate to **Data Science**?"
   ]
  },
  {
   "cell_type": "markdown",
   "metadata": {
    "slideshow": {
     "slide_type": "slide"
    }
   },
   "source": [
    "\n",
    "**Logical Positivism** describes the mainstay of the scientific method.  \n",
    "\n",
    " * **Positivism** means that conclusions are based on _observations_ and _evidence_.  \n",
    " * **Logical** means that deductions are made according to the rules of _logic_.  \n",
    " \n",
    "Together these describe a methodology of research that draws conclusions based on logical deductions from the foundations of observation and evidence. \n"
   ]
  },
  {
   "cell_type": "markdown",
   "metadata": {
    "slideshow": {
     "slide_type": "slide"
    }
   },
   "source": [
    "Here's a Science Checklist from [Berkeley](http://undsci.berkeley.edu/article/0_0_0/whatisscience_03) - a classroom activity to help kids understand what science is:\n",
    "\n",
    "![Science Checklist](http://undsci.berkeley.edu/images/us101/sciencechecklist.gif)\n",
    "\n",
    "Another list from [UCAR](https://scied.ucar.edu/activity/science) describes characteristics of Scientific endevour: **Natural**, **Observable**, **Testable**, **Tentative**, **Uncertain**, and **Social**.\n"
   ]
  },
  {
   "cell_type": "markdown",
   "metadata": {
    "slideshow": {
     "slide_type": "slide"
    }
   },
   "source": [
    "## Defining Data Science - Interpretation and Reproducibility \n",
    "\n",
    "<img src='http://i0.kym-cdn.com/photos/images/original/000/933/851/c8e.jpg' style='float:left; margin:10px'>\n",
    "\n",
    "Using DS methods we can take large amounts of data and find patterns, display summaries, create visualisations, draw conclusions.   So what does it mean to be responsible in this context?\n"
   ]
  },
  {
   "cell_type": "markdown",
   "metadata": {
    "slideshow": {
     "slide_type": "slide"
    }
   },
   "source": [
    "## Defining Data Science - Interpretation and Reproducibility \n",
    "\n",
    "The phrase ['Lies, Damn Lies and Statistics'](https://en.wikipedia.org/wiki/Lies,_damned_lies,_and_statistics) is a comment on the way that statistics are used to mislead people.  Show a graph or a table of numbers that appears to back up your argument and you sound more convincing.  For an in-depth treatment of this in the context of DS see: [Calling Bullshit In the Age of Big Data](https://callingbullshit.org/) (we will draw on some of their presentations and activities this semester).  \n",
    "\n",
    "So how do we protect against this kind of deception? \n"
   ]
  },
  {
   "cell_type": "markdown",
   "metadata": {
    "slideshow": {
     "slide_type": "slide"
    }
   },
   "source": [
    "Go back to our Science discussion - conclusions should be based on **observations of evidence**. So if I present a graph, I should also present the sources of data that I used to generate the graph.  \n",
    "\n",
    "Even with the same data, I can't fully understand your results without knowing what methods you used to analyse the data.  For example, did you use all of the data or did you exclude some observations? Did you smooth, scale or otherwise manipulate the data? What classification, clustering or modelling methods did you use? \n"
   ]
  },
  {
   "cell_type": "markdown",
   "metadata": {
    "slideshow": {
     "slide_type": "slide"
    }
   },
   "source": [
    "## Reproducibility\n",
    "\n",
    "**Reproducibility** is an increasingly important goal in Science and Data Science is playing a big role in helping to achieve it.  Scientists are concerned that many published studies could not be repeated by other groups and may be supect because of this (see [Replication Crisis on Wikipedia](https://en.wikipedia.org/wiki/Replication_crisis)).  Part of the response is an increased awareness of the need to make research data openly available and to publish the software and methods that was used to generate the results. See [Open Science Foundation](https://osf.io), [Zenodo](https://zenodo.org), [Figshare](https://figshare.com) as examples of services that have been established to help scientists share research data and software.\n"
   ]
  },
  {
   "cell_type": "markdown",
   "metadata": {
    "slideshow": {
     "slide_type": "slide"
    }
   },
   "source": [
    "## Defining Data Science - Data\n",
    "\n",
    "Data Science clearly involves Data. What will we need to learn about to become a Data Scientist? \n",
    "\n",
    "- Data is generated from a range of sources: instruments, surveys, human behaviour, models, simulations\n",
    "- The size of data varies: hundreds, thousands, millions of observations\n",
    "- How data is made available: files in various formats, streams of data over the network, databases, the web\n",
    "- What is data: not just simple observations and measurements, text as data, metadata as data"
   ]
  },
  {
   "cell_type": "markdown",
   "metadata": {
    "slideshow": {
     "slide_type": "skip"
    }
   },
   "source": [
    "You will be given or find data that we want to use in an analysis.  You will learn techniques to read\n",
    "this data into Python data structures.  How to read different file formats; which data structures are most appropriate. "
   ]
  },
  {
   "cell_type": "markdown",
   "metadata": {
    "slideshow": {
     "slide_type": "slide"
    }
   },
   "source": [
    "\n",
    "***IBM estimates that 90 percent of the data in the world today has been created in the past two years.*** [source Data Centre Knowledge](https://www.datacenterknowledge.com/archives/2012/09/12/a-look-into-the-big-data-battleground-analyzing-the-market)\n",
    "\n",
    "You will learn some data wrangling skills:\n",
    "\n",
    "- Reading different kinds of file format\n",
    "- Cleaning data: \n",
    "    - filling in missing values,\n",
    "    - making values consistent (Australia, Aus, Oz) \n",
    "    - merging data sources\n",
    "    - selecting rows and columns\n",
    "    - generating aggregate data \n"
   ]
  },
  {
   "cell_type": "markdown",
   "metadata": {
    "slideshow": {
     "slide_type": "slide"
    }
   },
   "source": [
    "**Wait! What was that?**\n",
    "\n",
    "***IBM estimates that 90 percent of the data in the world today has been created in the past two years.*** [source Data Centre Knowledge](https://www.datacenterknowledge.com/archives/2012/09/12/a-look-into-the-big-data-battleground-analyzing-the-market)\n",
    "\n",
    "What did you think when you heard me say that? What does that statement mean? Can you believe it? \n"
   ]
  },
  {
   "cell_type": "markdown",
   "metadata": {
    "slideshow": {
     "slide_type": "slide"
    }
   },
   "source": [
    "***IBM estimates that 90 percent of the data in the world today has been created in the past two years.*** [source Data Centre Knowledge](https://www.datacenterknowledge.com/archives/2012/09/12/a-look-into-the-big-data-battleground-analyzing-the-market)\n",
    "\n",
    "* I found this quote in an online article discussing Big Data - cited above.\n",
    "* The same quote is repeated often in many places often in this context: \n",
    "\n",
    "***\"According to IBM, the end-user community creates 2.5 quintillion bytes of data every day — so much that 90% of the data in the world today has been created in the last two years alone.\"***\n",
    "\n",
    "* How do we interpret and evaluate this statement?  \n",
    "\n",
    "*Stop the video now and try to find out where this statement comes from* "
   ]
  },
  {
   "cell_type": "markdown",
   "metadata": {
    "slideshow": {
     "slide_type": "slide"
    }
   },
   "source": [
    "_\"According to IBM, the end-user community creates 2.5 quintillion bytes of data every day - so much that 90% of the data in the world today has been created in the last two years alone.\"_\n",
    "\n",
    "* Firstly what does this mean - what is a quintillion bytes of data? \n",
    "    * Same as an Exabyte or 10^18 bytes, 1000 petabytes, 1 million terabytes\n",
    "* What does it mean for us to create this much data - taking photos, videos, writing documents, spreadsheets? \n",
    "* Trying to find the source of this statement is difficult but I did find this: \n",
    "    * [Eric Schmidt’s “5 Exabytes” Quote is a Load of Crap](https://blog.rjmetrics.com/2011/02/07/eric-schmidts-5-exabytes-quote-is-a-load-of-crap/) which someone said might be the source of the idea."
   ]
  },
  {
   "cell_type": "markdown",
   "metadata": {
    "slideshow": {
     "slide_type": "slide"
    }
   },
   "source": [
    "And here's an actual study that has some relevant data:\n",
    "\n",
    "> Hilbert, M., & López, P. (2011). The World’s Technological Capacity to Store, Communicate, and Compute Information. Science, 332(6025), 60 –65. [doi:10.1126/science.1200970](https://www.martinhilbert.net/WorldInfoCapacity.html/)"
   ]
  },
  {
   "cell_type": "markdown",
   "metadata": {
    "slideshow": {
     "slide_type": "slide"
    }
   },
   "source": [
    "## Be skeptical of any figures quoted to convince you of something\n",
    "\n",
    "* Where did they come from? Is there a source citation?\n",
    "* Can you find the source? What does it actually say? \n",
    "* Is the cited data actually relevant to the argument being made? "
   ]
  },
  {
   "cell_type": "markdown",
   "metadata": {
    "slideshow": {
     "slide_type": "slide"
    }
   },
   "source": [
    "## The Weekly\n",
    "\n",
    "In May 2016 Charly Pickering's The Weekly showed a graph of the projected budget surplus compared with the actual balance over time:\n",
    "\n",
    "[The Weekly Plot](https://pbs.twimg.com/media/ChqQRTaU4AA9m8S.jpg)\n",
    "\n",
    "I was interested in where this came from, so I asked (via Twitter) for the sources ([Budget Papers](https://www.budget.gov.au/)) and made my own version using [Plotly](https://plot.ly)\n"
   ]
  },
  {
   "cell_type": "markdown",
   "metadata": {
    "slideshow": {
     "slide_type": "slide"
    }
   },
   "source": [
    "\n",
    "\n",
    "[Plotly Visualisation](https://plot.ly/~stevecassidy/33.embed)\n",
    "\n",
    "![Australian Budget](https://plot.ly/~stevecassidy/33.png)"
   ]
  },
  {
   "cell_type": "markdown",
   "metadata": {
    "slideshow": {
     "slide_type": "slide"
    }
   },
   "source": [
    "This is up to date as of last year's budget. We can look at updating it for the most recent 2018 budget.  Click on the [Plotly Visualisation](https://plot.ly/~stevecassidy/33.embed) link to go to the diagram.  At the lower left click on [Edit Chart].  Now go to the [Budget Papers](https://www.budget.gov.au/) website and find the relevant document (Budget Documents > Budget Strategy and Outlook > Fiscal Strategy and Outlook) In that PDF look for \"fiscal balance\" and find the table of figures showing Actual, Estimates and Projections for each year.   What you want is the figures from this table for 2018 and the three years following.  Enter them in the table on Plot.ly in the same way as previous years and see the updated plot.  How well did they do at predicting the figures? "
   ]
  }
 ],
 "metadata": {
  "celltoolbar": "Slideshow",
  "kernelspec": {
   "display_name": "Python 3",
   "language": "python",
   "name": "python3"
  },
  "language_info": {
   "codemirror_mode": {
    "name": "ipython",
    "version": 3
   },
   "file_extension": ".py",
   "mimetype": "text/x-python",
   "name": "python",
   "nbconvert_exporter": "python",
   "pygments_lexer": "ipython3",
   "version": "3.7.0"
  }
 },
 "nbformat": 4,
 "nbformat_minor": 2
}
